{
 "cells": [
  {
   "cell_type": "code",
   "execution_count": null,
   "id": "b6c05b69-4ce8-45ef-82d3-bacb2491bee8",
   "metadata": {},
   "outputs": [],
   "source": [
    "# Import pieces from codeflare-sdk\n",
    "from codeflare_sdk.cluster.cluster import Cluster, ClusterConfiguration\n",
    "from codeflare_sdk.cluster.auth import TokenAuthentication"
   ]
  },
  {
   "cell_type": "code",
   "execution_count": null,
   "id": "32f99bbd-9903-4d38-a4f2-223dec684ae2",
   "metadata": {},
   "outputs": [],
   "source": [
    "# Create authentication object for oc user permissions\n",
    "auth = TokenAuthentication(\n",
    "    token = \"XXXXX\",\n",
    "    server = \"XXXXX\",\n",
    "    skip_tls=False\n",
    ")\n",
    "auth.login()"
   ]
  },
  {
   "cell_type": "code",
   "execution_count": null,
   "id": "3f32119a-c4ee-4163-b103-d9ca3bddbdb5",
   "metadata": {},
   "outputs": [],
   "source": [
    "cluster = Cluster(ClusterConfiguration(\n",
    "    name='gptfttest',\n",
    "    namespace='default',\n",
    "    min_worker=2,\n",
    "    max_worker=2,\n",
    "    min_cpus=2,\n",
    "    max_cpus=2,\n",
    "    min_memory=8,\n",
    "    max_memory=8,\n",
    "    gpu=1,\n",
    "    instascale=True,\n",
    "    machine_types=[\"m5.xlarge\", \"g4dn.xlarge\"],\n",
    "))"
   ]
  },
  {
   "cell_type": "code",
   "execution_count": null,
   "id": "107c8277-3b3b-4238-a786-a391a662fd7c",
   "metadata": {},
   "outputs": [],
   "source": [
    "cluster.up()"
   ]
  },
  {
   "cell_type": "code",
   "execution_count": null,
   "id": "730f66ce-adaa-4709-b9cf-22417847e059",
   "metadata": {},
   "outputs": [],
   "source": [
    "cluster.wait_ready()"
   ]
  },
  {
   "cell_type": "code",
   "execution_count": null,
   "id": "48fac218-2f22-428b-9228-137a4bb0e666",
   "metadata": {},
   "outputs": [],
   "source": [
    "cluster.details()"
   ]
  },
  {
   "cell_type": "code",
   "execution_count": null,
   "id": "9ed5bd75-4230-4c7c-a9e2-0f247890e62a",
   "metadata": {},
   "outputs": [],
   "source": [
    "from codeflare_sdk.job.jobs import DDPJobDefinition"
   ]
  },
  {
   "cell_type": "code",
   "execution_count": null,
   "id": "611d203a-35aa-4357-a748-1d01b022fcdb",
   "metadata": {},
   "outputs": [],
   "source": [
    "arg_list = [\n",
    "    \"--model_name_or_path\", \"gpt2\",\n",
    "    \"--dataset_name\", \"wikitext\",\n",
    "    \"--dataset_config_name\", \"wikitext-2-raw-v1\",\n",
    "    \"--per_device_train_batch_size\", \"2\",\n",
    "    \"--per_device_eval_batch_size\", \"2\",\n",
    "    \"--do_train\",\n",
    "    \"--do_eval\",\n",
    "    \"--output_dir\", \"/tmp/test-clm\",\n",
    "    \"--overwrite_output_dir\"\n",
    "]"
   ]
  },
  {
   "cell_type": "code",
   "execution_count": null,
   "id": "8ac7c34f-e227-44c2-a4b1-a57c853ac3a7",
   "metadata": {},
   "outputs": [],
   "source": [
    "jobdef = DDPJobDefinition(\n",
    "    name=\"gpttest\",\n",
    "    script=\"gpt_og.py\",\n",
    "    script_args=arg_list,\n",
    "    scheduler_args={\"requirements\": \"requirements_gpt.txt\"}\n",
    ")\n",
    "job = jobdef.submit(cluster)"
   ]
  },
  {
   "cell_type": "code",
   "execution_count": null,
   "id": "1680d287-de46-45f8-b95a-02ba3c83912c",
   "metadata": {},
   "outputs": [],
   "source": [
    "job.status()"
   ]
  },
  {
   "cell_type": "code",
   "execution_count": null,
   "id": "d25d6198-9941-47e8-857f-9811830cc854",
   "metadata": {},
   "outputs": [],
   "source": [
    "job.logs()"
   ]
  },
  {
   "cell_type": "code",
   "execution_count": null,
   "id": "beb1a6b9-d9b3-49b7-b036-09f1d3569b59",
   "metadata": {},
   "outputs": [],
   "source": [
    "cluster.down()"
   ]
  },
  {
   "cell_type": "code",
   "execution_count": null,
   "id": "8398d977-db24-46d0-a7d2-b4e9197808d7",
   "metadata": {},
   "outputs": [],
   "source": [
    "auth.logout()"
   ]
  }
 ],
 "metadata": {
  "kernelspec": {
   "display_name": "Python 3 (ipykernel)",
   "language": "python",
   "name": "python3"
  },
  "language_info": {
   "codemirror_mode": {
    "name": "ipython",
    "version": 3
   },
   "file_extension": ".py",
   "mimetype": "text/x-python",
   "name": "python",
   "nbconvert_exporter": "python",
   "pygments_lexer": "ipython3",
   "version": "3.8.13"
  }
 },
 "nbformat": 4,
 "nbformat_minor": 5
}
