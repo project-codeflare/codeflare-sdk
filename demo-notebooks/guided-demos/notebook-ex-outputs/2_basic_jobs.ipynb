{
 "cells": [
  {
   "cell_type": "markdown",
   "id": "464af595",
   "metadata": {},
   "source": [
    "In this third notebook, we will go over the basics of submitting jobs via the SDK, either to a Ray cluster or directly to MCAD."
   ]
  },
  {
   "cell_type": "code",
   "execution_count": 1,
   "id": "b55bc3ea-4ce3-49bf-bb1f-e209de8ca47a",
   "metadata": {},
   "outputs": [],
   "source": [
    "# Import pieces from codeflare-sdk\n",
    "from codeflare_sdk.cluster.cluster import Cluster, ClusterConfiguration\n",
    "from codeflare_sdk.cluster.auth import TokenAuthentication"
   ]
  },
  {
   "cell_type": "code",
   "execution_count": null,
   "id": "614daa0c",
   "metadata": {},
   "outputs": [],
   "source": [
    "# Create authentication object for user permissions\n",
    "# IF unused, SDK will automatically check for default kubeconfig, then in-cluster config\n",
    "# KubeConfigFileAuthentication can also be used to specify kubeconfig path manually\n",
    "auth = TokenAuthentication(token=\"XXXXX\", server=\"XXXXX\", skip_tls=False)\n",
    "auth.login()"
   ]
  },
  {
   "cell_type": "markdown",
   "id": "bc27f84c",
   "metadata": {},
   "source": [
    "Let's start by running through the same cluster setup as before:"
   ]
  },
  {
   "cell_type": "code",
   "execution_count": 2,
   "id": "0f4bc870-091f-4e11-9642-cba145710159",
   "metadata": {},
   "outputs": [
    {
     "name": "stdout",
     "output_type": "stream",
     "text": [
      "Written to: jobtest.yaml\n"
     ]
    }
   ],
   "source": [
    "# Create and configure our cluster object (and appwrapper)\n",
    "cluster = Cluster(\n",
    "    ClusterConfiguration(\n",
    "        name=\"jobtest\",\n",
    "        namespace=\"default\",\n",
    "        num_workers=2,\n",
    "        min_cpus=1,\n",
    "        max_cpus=1,\n",
    "        min_memory=4,\n",
    "        max_memory=4,\n",
    "        num_gpus=0,\n",
    "        instascale=False,\n",
    "    )\n",
    ")"
   ]
  },
  {
   "cell_type": "code",
   "execution_count": 3,
   "id": "f0884bbc-c224-4ca0-98a0-02dfa09c2200",
   "metadata": {},
   "outputs": [
    {
     "name": "stdout",
     "output_type": "stream",
     "text": [
      "Waiting for requested resources to be set up...\n",
      "Requested cluster up and running!\n"
     ]
    }
   ],
   "source": [
    "# Bring up the cluster\n",
    "cluster.up()\n",
    "cluster.wait_ready()"
   ]
  },
  {
   "cell_type": "code",
   "execution_count": 4,
   "id": "df71c1ed",
   "metadata": {},
   "outputs": [
    {
     "data": {
      "text/html": [
       "<pre style=\"white-space:pre;overflow-x:auto;line-height:normal;font-family:Menlo,'DejaVu Sans Mono',consolas,'Courier New',monospace\"><span style=\"font-style: italic\">                 </span><span style=\"font-weight: bold; font-style: italic\"> 🚀 CodeFlare Cluster Details 🚀</span><span style=\"font-style: italic\">                  </span>\n",
       "<span style=\"font-weight: bold\">                                                                   </span>\n",
       " ╭───────────────────────────────────────────────────────────────╮ \n",
       " │   <span style=\"color: #c0c0c0; text-decoration-color: #c0c0c0; background-color: #008000; font-weight: bold\">Name</span>                                                        │ \n",
       " │   <span style=\"font-weight: bold; text-decoration: underline\">jobtest</span>                                        Active ✅    │ \n",
       " │                                                               │ \n",
       " │   <span style=\"font-weight: bold\">URI:</span> ray://jobtest-head-svc.default.svc:10001               │ \n",
       " │                                                               │ \n",
       " │   <a href=\"http://ray-dashboard-jobtest-default.apps.meyceoz-07122023.psap.aws.rhperfscale.org\" target=\"_blank\"><span style=\"color: #000080; text-decoration-color: #000080; text-decoration: underline\">Dashboard🔗</span></a>                                                 │ \n",
       " │                                                               │ \n",
       " │  <span style=\"font-style: italic\">                     Cluster Resources                     </span>  │ \n",
       " │   ╭── Workers ──╮  ╭───────── Worker specs(each) ─────────╮   │ \n",
       " │   │ <span style=\"font-weight: bold\"> # Workers </span> │  │ <span style=\"font-weight: bold\"> Memory      CPU         GPU        </span> │   │ \n",
       " │   │ <span style=\"color: #800080; text-decoration-color: #800080\">           </span> │  │ <span style=\"color: #008080; text-decoration-color: #008080\">            </span><span style=\"color: #800080; text-decoration-color: #800080\">                        </span> │   │ \n",
       " │   │ <span style=\"color: #800080; text-decoration-color: #800080\"> 2         </span> │  │ <span style=\"color: #008080; text-decoration-color: #008080\"> 4~4        </span><span style=\"color: #800080; text-decoration-color: #800080\"> 1           0          </span> │   │ \n",
       " │   │ <span style=\"color: #800080; text-decoration-color: #800080\">           </span> │  │ <span style=\"color: #008080; text-decoration-color: #008080\">            </span><span style=\"color: #800080; text-decoration-color: #800080\">                        </span> │   │ \n",
       " │   ╰─────────────╯  ╰──────────────────────────────────────╯   │ \n",
       " ╰───────────────────────────────────────────────────────────────╯ \n",
       "</pre>\n"
      ],
      "text/plain": [
       "\u001b[3m                 \u001b[0m\u001b[1;3m 🚀 CodeFlare Cluster Details 🚀\u001b[0m\u001b[3m                  \u001b[0m\n",
       "\u001b[1m \u001b[0m\u001b[1m                                                                 \u001b[0m\u001b[1m \u001b[0m\n",
       " ╭───────────────────────────────────────────────────────────────╮ \n",
       " │   \u001b[1;37;42mName\u001b[0m                                                        │ \n",
       " │   \u001b[1;4mjobtest\u001b[0m                                        Active ✅    │ \n",
       " │                                                               │ \n",
       " │   \u001b[1mURI:\u001b[0m ray://jobtest-head-svc.default.svc:10001               │ \n",
       " │                                                               │ \n",
       " │   \u001b]8;id=366603;http://ray-dashboard-jobtest-default.apps.meyceoz-07122023.psap.aws.rhperfscale.org\u001b\\\u001b[4;34mDashboard🔗\u001b[0m\u001b]8;;\u001b\\                                                 │ \n",
       " │                                                               │ \n",
       " │  \u001b[3m                     Cluster Resources                     \u001b[0m  │ \n",
       " │   ╭── Workers ──╮  ╭───────── Worker specs(each) ─────────╮   │ \n",
       " │   │ \u001b[1m \u001b[0m\u001b[1m# Workers\u001b[0m\u001b[1m \u001b[0m │  │ \u001b[1m \u001b[0m\u001b[1mMemory    \u001b[0m\u001b[1m \u001b[0m\u001b[1m \u001b[0m\u001b[1mCPU       \u001b[0m\u001b[1m \u001b[0m\u001b[1m \u001b[0m\u001b[1mGPU       \u001b[0m\u001b[1m \u001b[0m │   │ \n",
       " │   │ \u001b[35m \u001b[0m\u001b[35m         \u001b[0m\u001b[35m \u001b[0m │  │ \u001b[36m \u001b[0m\u001b[36m          \u001b[0m\u001b[36m \u001b[0m\u001b[35m \u001b[0m\u001b[35m          \u001b[0m\u001b[35m \u001b[0m\u001b[35m \u001b[0m\u001b[35m          \u001b[0m\u001b[35m \u001b[0m │   │ \n",
       " │   │ \u001b[35m \u001b[0m\u001b[35m2        \u001b[0m\u001b[35m \u001b[0m │  │ \u001b[36m \u001b[0m\u001b[36m4~4       \u001b[0m\u001b[36m \u001b[0m\u001b[35m \u001b[0m\u001b[35m1         \u001b[0m\u001b[35m \u001b[0m\u001b[35m \u001b[0m\u001b[35m0         \u001b[0m\u001b[35m \u001b[0m │   │ \n",
       " │   │ \u001b[35m \u001b[0m\u001b[35m         \u001b[0m\u001b[35m \u001b[0m │  │ \u001b[36m \u001b[0m\u001b[36m          \u001b[0m\u001b[36m \u001b[0m\u001b[35m \u001b[0m\u001b[35m          \u001b[0m\u001b[35m \u001b[0m\u001b[35m \u001b[0m\u001b[35m          \u001b[0m\u001b[35m \u001b[0m │   │ \n",
       " │   ╰─────────────╯  ╰──────────────────────────────────────╯   │ \n",
       " ╰───────────────────────────────────────────────────────────────╯ \n"
      ]
     },
     "metadata": {},
     "output_type": "display_data"
    },
    {
     "data": {
      "text/plain": [
       "RayCluster(name='jobtest', status=<RayClusterStatus.READY: 'ready'>, workers=2, worker_mem_min=4, worker_mem_max=4, worker_cpu=1, worker_gpu=0, namespace='default', dashboard='http://ray-dashboard-jobtest-default.apps.meyceoz-07122023.psap.aws.rhperfscale.org')"
      ]
     },
     "execution_count": 4,
     "metadata": {},
     "output_type": "execute_result"
    }
   ],
   "source": [
    "cluster.details()"
   ]
  },
  {
   "cell_type": "markdown",
   "id": "33663f47",
   "metadata": {},
   "source": [
    "This time, however, we are going to use the CodeFlare SDK to submit batch jobs via TorchX, either to the Ray cluster we have just brought up, or directly to MCAD."
   ]
  },
  {
   "cell_type": "code",
   "execution_count": 5,
   "id": "c7b4f232",
   "metadata": {},
   "outputs": [],
   "source": [
    "from codeflare_sdk.job.jobs import DDPJobDefinition"
   ]
  },
  {
   "cell_type": "markdown",
   "id": "83d77b74",
   "metadata": {},
   "source": [
    "First, let's begin by submitting to Ray, training a basic NN on the MNIST dataset:"
   ]
  },
  {
   "cell_type": "code",
   "execution_count": 6,
   "id": "8c2c5138",
   "metadata": {},
   "outputs": [
    {
     "name": "stderr",
     "output_type": "stream",
     "text": [
      "The Ray scheduler does not support port mapping.\n"
     ]
    }
   ],
   "source": [
    "jobdef = DDPJobDefinition(\n",
    "    name=\"mnisttest\",\n",
    "    script=\"mnist.py\",\n",
    "    scheduler_args={\"requirements\": \"requirements.txt\"},\n",
    ")\n",
    "job = jobdef.submit(cluster)"
   ]
  },
  {
   "cell_type": "markdown",
   "id": "5b9ae53a",
   "metadata": {},
   "source": [
    "Now we can take a look at the status of our submitted job, as well as retrieve the full logs:"
   ]
  },
  {
   "cell_type": "code",
   "execution_count": 9,
   "id": "6e36c3d9",
   "metadata": {},
   "outputs": [
    {
     "data": {
      "text/plain": [
       "AppStatus:\n",
       "  msg: !!python/object/apply:ray.dashboard.modules.job.common.JobStatus\n",
       "  - RUNNING\n",
       "  num_restarts: -1\n",
       "  roles:\n",
       "  - replicas:\n",
       "    - hostname: <NONE>\n",
       "      id: 0\n",
       "      role: ray\n",
       "      state: !!python/object/apply:torchx.specs.api.AppState\n",
       "      - 3\n",
       "      structured_error_msg: <NONE>\n",
       "    role: ray\n",
       "  state: RUNNING (3)\n",
       "  structured_error_msg: <NONE>\n",
       "  ui_url: null"
      ]
     },
     "execution_count": 9,
     "metadata": {},
     "output_type": "execute_result"
    }
   ],
   "source": [
    "job.status()"
   ]
  },
  {
   "cell_type": "code",
   "execution_count": 10,
   "id": "834cfb5c",
   "metadata": {},
   "outputs": [
    {
     "data": {
      "text/plain": [
       "'[RayActor(name=\\'mnist\\', command=[\\'bash\\', \\'-c\\', \"torchrun --rdzv_backend static --rdzv_endpoint $TORCHX_RANK0_HOST:49782 --rdzv_id \\'mnisttest-bc7wx5t7hd0lcc\\' --nnodes 2 --nproc_per_node 1 --node_rank \\'0\\' --tee 3 --role \\'\\' mnist.py\"], env={\\'TORCHX_TRACKING_EXPERIMENT_NAME\\': \\'default-experiment\\', \\'LOGLEVEL\\': \\'WARNING\\', \\'TORCHX_JOB_ID\\': \\'ray://torchx/mnisttest-bc7wx5t7hd0lcc\\'}, num_cpus=1, num_gpus=0, min_replicas=2), RayActor(name=\\'mnist\\', command=[\\'bash\\', \\'-c\\', \"torchrun --rdzv_backend static --rdzv_endpoint $TORCHX_RANK0_HOST:49782 --rdzv_id \\'mnisttest-bc7wx5t7hd0lcc\\' --nnodes 2 --nproc_per_node 1 --node_rank \\'1\\' --tee 3 --role \\'\\' mnist.py\"], env={\\'TORCHX_TRACKING_EXPERIMENT_NAME\\': \\'default-experiment\\', \\'LOGLEVEL\\': \\'WARNING\\', \\'TORCHX_JOB_ID\\': \\'ray://torchx/mnisttest-bc7wx5t7hd0lcc\\'}, num_cpus=1, num_gpus=0, min_replicas=2)]\\n2023-08-09 08:05:59,434\\tINFO worker.py:1334 -- Using address 10.129.0.64:6379 set in the environment variable RAY_ADDRESS\\n2023-08-09 08:05:59,434\\tINFO worker.py:1452 -- Connecting to existing Ray cluster at address: 10.129.0.64:6379...\\n2023-08-09 08:05:59,477\\tINFO worker.py:1627 -- Connected to Ray cluster. View the dashboard at \\x1b[1m\\x1b[32mhttp://10.129.0.64:8265 \\x1b[39m\\x1b[22m\\nWaiting for minimum placement group to start.\\nSuccessfully created placement groups\\nrdzv_endpoint set to 10.129.0.64 for actor 811b83022b98b0411b06453c02000000\\nrdzv_endpoint set to 10.129.0.64 for actor 0ae7ff0d51deee52fd0b0ba802000000\\nSuccessfully placed command actors\\nEntering main loop, start executing the script on worker nodes\\nrunning ray.wait on [ObjectRef(e082c90ab8422b00811b83022b98b0411b06453c0200000001000000), ObjectRef(ce868e48e2fa9a940ae7ff0d51deee52fd0b0ba80200000001000000)]\\nrunning ray.wait on [ObjectRef(ce868e48e2fa9a940ae7ff0d51deee52fd0b0ba80200000001000000), ObjectRef(f81ec6ff838b16db811b83022b98b0411b06453c0200000001000000)]\\n'"
      ]
     },
     "execution_count": 10,
     "metadata": {},
     "output_type": "execute_result"
    }
   ],
   "source": [
    "job.logs()"
   ]
  },
  {
   "cell_type": "markdown",
   "id": "63f46b41",
   "metadata": {},
   "source": [
    "You can also view organized logs, status, and other information directly through the Ray cluster's dashboard:"
   ]
  },
  {
   "cell_type": "code",
   "execution_count": 11,
   "id": "78ca8ce0",
   "metadata": {},
   "outputs": [
    {
     "data": {
      "text/plain": [
       "'http://ray-dashboard-jobtest-default.apps.meyceoz-07122023.psap.aws.rhperfscale.org'"
      ]
     },
     "execution_count": 11,
     "metadata": {},
     "output_type": "execute_result"
    }
   ],
   "source": [
    "cluster.cluster_dashboard_uri()"
   ]
  },
  {
   "cell_type": "markdown",
   "id": "5af8cd32",
   "metadata": {},
   "source": [
    "Once complete, we can bring our Ray cluster down and clean up:"
   ]
  },
  {
   "cell_type": "code",
   "execution_count": 12,
   "id": "a7714885",
   "metadata": {},
   "outputs": [
    {
     "data": {
      "text/plain": [
       "AppStatus:\n",
       "  msg: !!python/object/apply:ray.dashboard.modules.job.common.JobStatus\n",
       "  - SUCCEEDED\n",
       "  num_restarts: -1\n",
       "  roles:\n",
       "  - replicas:\n",
       "    - hostname: <NONE>\n",
       "      id: 0\n",
       "      role: ray\n",
       "      state: !!python/object/apply:torchx.specs.api.AppState\n",
       "      - 4\n",
       "      structured_error_msg: <NONE>\n",
       "    role: ray\n",
       "  state: SUCCEEDED (4)\n",
       "  structured_error_msg: <NONE>\n",
       "  ui_url: null"
      ]
     },
     "execution_count": 12,
     "metadata": {},
     "output_type": "execute_result"
    }
   ],
   "source": [
    "job.status()"
   ]
  },
  {
   "cell_type": "code",
   "execution_count": 13,
   "id": "5f36db0f-31f6-4373-9503-dc3c1c4c3f57",
   "metadata": {},
   "outputs": [],
   "source": [
    "cluster.down()"
   ]
  },
  {
   "cell_type": "markdown",
   "id": "31096641",
   "metadata": {},
   "source": [
    "Now, an alternative option for job submission is to submit directly to MCAD, which will schedule pods to run the job with requested resources:"
   ]
  },
  {
   "cell_type": "code",
   "execution_count": 14,
   "id": "496139cc",
   "metadata": {},
   "outputs": [],
   "source": [
    "jobdef = DDPJobDefinition(\n",
    "    name=\"mnistjob\",\n",
    "    script=\"mnist.py\",\n",
    "    scheduler_args={\"namespace\": \"default\"},\n",
    "    j=\"1x1\",\n",
    "    gpu=0,\n",
    "    cpu=1,\n",
    "    memMB=8000,\n",
    "    image=\"quay.io/project-codeflare/mnist-job-test:v0.0.1\",\n",
    ")\n",
    "job = jobdef.submit()"
   ]
  },
  {
   "cell_type": "markdown",
   "id": "0837e43b",
   "metadata": {},
   "source": [
    "Once again, we can look at job status and logs:"
   ]
  },
  {
   "cell_type": "code",
   "execution_count": 15,
   "id": "3d18d42c",
   "metadata": {},
   "outputs": [
    {
     "name": "stderr",
     "output_type": "stream",
     "text": [
      "/opt/homebrew/lib/python3.8/site-packages/torchx/schedulers/kubernetes_mcad_scheduler.py:1105: UserWarning: Warning - MCAD does not report individual replica statuses, but overall task status. Replica id  may not match status\n",
      "  warnings.warn(msg)\n"
     ]
    },
    {
     "data": {
      "text/plain": [
       "AppStatus:\n",
       "  msg: <NONE>\n",
       "  num_restarts: -1\n",
       "  roles:\n",
       "  - replicas:\n",
       "    - hostname: ''\n",
       "      id: 0\n",
       "      role: mnist\n",
       "      state: !!python/object/apply:torchx.specs.api.AppState\n",
       "      - 2\n",
       "      structured_error_msg: <NONE>\n",
       "    role: mnist\n",
       "  state: RUNNING (3)\n",
       "  structured_error_msg: <NONE>\n",
       "  ui_url: null"
      ]
     },
     "execution_count": 15,
     "metadata": {},
     "output_type": "execute_result"
    }
   ],
   "source": [
    "job.status()"
   ]
  },
  {
   "cell_type": "code",
   "execution_count": 20,
   "id": "36d7ea97",
   "metadata": {},
   "outputs": [
    {
     "data": {
      "text/plain": [
       "'2023-08-09T15:10:09.515811959Z [0]:GPU available: False, used: False\\n2023-08-09T15:10:09.515811959Z [0]:TPU available: False, using: 0 TPU cores\\n2023-08-09T15:10:09.515811959Z [0]:IPU available: False, using: 0 IPUs\\n2023-08-09T15:10:09.615986853Z [0]:\\n2023-08-09T15:10:09.615986853Z [0]:  0%|          | 0/9912422 [00:00<?, ?it/s]\\n2023-08-09T15:10:09.615986853Z [0]:100%|██████████| 9912422/9912422 [00:00<00:00, 298100016.81it/s]\\n2023-08-09T15:10:09.916463153Z [0]:\\n2023-08-09T15:10:09.916463153Z [0]:  0%|          | 0/28881 [00:00<?, ?it/s]\\n2023-08-09T15:10:09.916463153Z [0]:100%|██████████| 28881/28881 [00:00<00:00, 219846994.24it/s]\\n2023-08-09T15:10:09.916463153Z [0]:\\n2023-08-09T15:10:09.916463153Z [0]:  0%|          | 0/1648877 [00:00<?, ?it/s]\\n2023-08-09T15:10:09.916463153Z [0]:100%|██████████| 1648877/1648877 [00:00<00:00, 111410068.25it/s]\\n2023-08-09T15:10:10.016659353Z [0]:\\n2023-08-09T15:10:10.016659353Z [0]:  0%|          | 0/4542 [00:00<?, ?it/s]\\n2023-08-09T15:10:10.016659353Z [0]:100%|██████████| 4542/4542 [00:00<00:00, 54120820.36it/s]\\n2023-08-09T15:10:10.016659353Z [0]:initializing distributed: GLOBAL_RANK: 0, MEMBER: 1/1\\n2023-08-09T15:10:10.016659353Z [0]:----------------------------------------------------------------------------------------------------\\n2023-08-09T15:10:10.016659353Z [0]:distributed_backend=gloo\\n2023-08-09T15:10:10.016659353Z [0]:All distributed processes registered. Starting with 1 processes\\n2023-08-09T15:10:10.016659353Z [0]:----------------------------------------------------------------------------------------------------\\n2023-08-09T15:10:10.016659353Z [0]:\\n2023-08-09T15:10:10.116856261Z [0]:Missing logger folder: /app/lightning_logs\\n2023-08-09T15:10:10.116856261Z [0]:\\n2023-08-09T15:10:10.116856261Z [0]:  | Name          | Type       | Params\\n2023-08-09T15:10:10.116856261Z [0]:---------------------------------------------\\n2023-08-09T15:10:10.116856261Z [0]:0 | model         | Sequential | 55.1 K\\n2023-08-09T15:10:10.116856261Z [0]:1 | val_accuracy  | Accuracy   | 0     \\n2023-08-09T15:10:10.116856261Z [0]:2 | test_accuracy | Accuracy   | 0     \\n2023-08-09T15:10:10.116856261Z [0]:---------------------------------------------\\n2023-08-09T15:10:10.116856261Z [0]:55.1 K    Trainable params\\n2023-08-09T15:10:10.116856261Z [0]:0         Non-trainable params\\n2023-08-09T15:10:10.116856261Z [0]:55.1 K    Total params\\n2023-08-09T15:10:10.116856261Z [0]:0.220     Total estimated model params size (MB)\\n2023-08-09T15:10:10.116881537Z [0]:/opt/conda/lib/python3.9/site-packages/pytorch_lightning/trainer/data_loading.py:132: UserWarning: The dataloader, val_dataloader 0, does not have many workers which may be a bottleneck. Consider increasing the value of the `num_workers` argument` (try 16 which is the number of cpus on this machine) in the `DataLoader` init to improve performance.\\n2023-08-09T15:10:10.116881537Z [0]:  rank_zero_warn(\\n2023-08-09T15:10:10.217060107Z [0]:/opt/conda/lib/python3.9/site-packages/pytorch_lightning/trainer/data_loading.py:132: UserWarning: The dataloader, train_dataloader, does not have many workers which may be a bottleneck. Consider increasing the value of the `num_workers` argument` (try 16 which is the number of cpus on this machine) in the `DataLoader` init to improve performance.\\n2023-08-09T15:10:10.217060107Z [0]:  rank_zero_warn(\\n2023-08-09T15:10:10.317228905Z [0]:[W reducer.cpp:1298] Warning: find_unused_parameters=True was specified in DDP constructor, but did not find any unused parameters in the forward pass. This flag results in an extra traversal of the autograd graph every iteration,  which can adversely affect performance. If your model indeed never has any unused parameters in the forward pass, consider turning this flag off. Note that this warning may be a false positive if your model has flow control causing later iterations to have unused parameters. (function operator())\\n2023-08-09T15:10:48.917639725Z [0]:prior to running the trainer\\n2023-08-09T15:10:48.917639725Z [0]:MASTER_ADDR: is  mnistjob-grb2z5jj512fbc-0.mnistjob-grb2z5jj512fbc.default.svc.cluster.local\\n2023-08-09T15:10:48.917639725Z [0]:MASTER_PORT: is  53519\\n2023-08-09T15:10:48.917639725Z [0]:GROUP:  1\\n2023-08-09T15:10:48.917639725Z [0]:LOCAL:  1\\n2023-08-09T15:10:48.917639725Z [0]:Downloading MNIST dataset...\\n2023-08-09T15:10:48.917639725Z [0]:Downloading http://yann.lecun.com/exdb/mnist/train-images-idx3-ubyte.gz\\n2023-08-09T15:10:48.917639725Z [0]:Downloading http://yann.lecun.com/exdb/mnist/train-images-idx3-ubyte.gz to ./MNIST/raw/train-images-idx3-ubyte.gz\\n2023-08-09T15:10:48.917639725Z [0]:Extracting ./MNIST/raw/train-images-idx3-ubyte.gz to ./MNIST/raw\\n2023-08-09T15:10:48.917639725Z [0]:\\n2023-08-09T15:10:48.917639725Z [0]:Downloading http://yann.lecun.com/exdb/mnist/train-labels-idx1-ubyte.gz\\n2023-08-09T15:10:48.917639725Z [0]:Downloading http://yann.lecun.com/exdb/mnist/train-labels-idx1-ubyte.gz to ./MNIST/raw/train-labels-idx1-ubyte.gz\\n2023-08-09T15:10:48.917639725Z [0]:Extracting ./MNIST/raw/train-labels-idx1-ubyte.gz to ./MNIST/raw\\n2023-08-09T15:10:48.917639725Z [0]:\\n2023-08-09T15:10:48.917639725Z [0]:Downloading http://yann.lecun.com/exdb/mnist/t10k-images-idx3-ubyte.gz\\n2023-08-09T15:10:48.917639725Z [0]:Downloading http://yann.lecun.com/exdb/mnist/t10k-images-idx3-ubyte.gz to ./MNIST/raw/t10k-images-idx3-ubyte.gz\\n2023-08-09T15:10:48.917639725Z [0]:Extracting ./MNIST/raw/t10k-images-idx3-ubyte.gz to ./MNIST/raw\\n2023-08-09T15:10:48.917639725Z [0]:\\n2023-08-09T15:10:48.917639725Z [0]:Downloading http://yann.lecun.com/exdb/mnist/t10k-labels-idx1-ubyte.gz\\n2023-08-09T15:10:48.917639725Z [0]:Downloading http://yann.lecun.com/exdb/mnist/t10k-labels-idx1-ubyte.gz to ./MNIST/raw/t10k-labels-idx1-ubyte.gz\\n2023-08-09T15:10:48.917639725Z [0]:Extracting ./MNIST/raw/t10k-labels-idx1-ubyte.gz to ./MNIST/raw\\n2023-08-09T15:10:48.917639725Z [0]:\\n2023-08-09T15:10:48.917639725Z [0]:\\n2023-08-09T15:10:48.917639725Z [0]:Validation sanity check: 0it [00:00, ?it/s]\\n2023-08-09T15:10:48.917639725Z [0]:Validation sanity check:   0%|          | 0/2 [00:00<?, ?it/s][0]:\\n2023-08-09T15:10:48.917639725Z [0]:Validation sanity check: 100%|██████████| 2/2 [00:00<00:00, 18.98it/s]\\n2023-08-09T15:10:48.917639725Z [0]:                                                                      \\n2023-08-09T15:10:48.917639725Z [0]:\\n2023-08-09T15:10:48.917639725Z [0]:Training: 0it [00:00, ?it/s]\\n2023-08-09T15:10:48.917639725Z [0]:Training:   0%|          | 0/939 [00:00<?, ?it/s]\\n2023-08-09T15:10:48.917639725Z [0]:Epoch 0:   0%|          | 0/939 [00:00<?, ?it/s] [0]:\\n2023-08-09T15:10:48.917639725Z [0]:Epoch 0:   2%|▏         | 20/939 [00:01<00:54, 16.82it/s]\\n2023-08-09T15:10:48.917639725Z [0]:Epoch 0:   2%|▏         | 20/939 [00:01<00:54, 16.82it/s, loss=2.23, v_num=0][0]:\\n2023-08-09T15:10:48.917639725Z [0]:Epoch 0:   4%|▍         | 40/939 [00:02<00:51, 17.43it/s, loss=2.23, v_num=0]\\n2023-08-09T15:10:48.917639725Z [0]:Epoch 0:   4%|▍         | 40/939 [00:02<00:51, 17.43it/s, loss=2.07, v_num=0][0]:\\n2023-08-09T15:10:48.917639725Z [0]:Epoch 0:   6%|▋         | 60/939 [00:03<00:49, 17.68it/s, loss=2.07, v_num=0]\\n2023-08-09T15:10:48.917639725Z [0]:Epoch 0:   6%|▋         | 60/939 [00:03<00:49, 17.67it/s, loss=1.81, v_num=0][0]:\\n2023-08-09T15:10:48.917639725Z [0]:Epoch 0:   9%|▊         | 80/939 [00:04<00:47, 18.18it/s, loss=1.81, v_num=0]\\n2023-08-09T15:10:48.917639725Z [0]:Epoch 0:   9%|▊         | 80/939 [00:04<00:47, 18.18it/s, loss=1.53, v_num=0][0]:\\n2023-08-09T15:10:48.917639725Z [0]:Epoch 0:  11%|█         | 100/939 [00:05<00:45, 18.52it/s, loss=1.53, v_num=0]\\n2023-08-09T15:10:48.917639725Z [0]:Epoch 0:  11%|█         | 100/939 [00:05<00:45, 18.52it/s, loss=1.24, v_num=0][0]:\\n2023-08-09T15:10:48.917639725Z [0]:Epoch 0:  13%|█▎        | 120/939 [00:06<00:44, 18.50it/s, loss=1.24, v_num=0]\\n2023-08-09T15:10:48.917639725Z [0]:Epoch 0:  13%|█▎        | 120/939 [00:06<00:44, 18.50it/s, loss=1.1, v_num=0] [0]:\\n2023-08-09T15:10:48.917639725Z [0]:Epoch 0:  15%|█▍        | 140/939 [00:07<00:42, 18.67it/s, loss=1.1, v_num=0]\\n2023-08-09T15:10:48.917639725Z [0]:Epoch 0:  15%|█▍        | 140/939 [00:07<00:43, 18.46it/s, loss=0.918, v_num=0][0]:\\n2023-08-09T15:10:48.917639725Z [0]:Epoch 0:  17%|█▋        | 160/939 [00:08<00:42, 18.39it/s, loss=0.918, v_num=0]\\n2023-08-09T15:10:48.917639725Z [0]:Epoch 0:  17%|█▋        | 160/939 [00:08<00:42, 18.39it/s, loss=0.827, v_num=0][0]:\\n2023-08-09T15:10:48.917639725Z [0]:Epoch 0:  19%|█▉        | 180/939 [00:09<00:41, 18.39it/s, loss=0.827, v_num=0]\\n2023-08-09T15:10:48.917639725Z [0]:Epoch 0:  19%|█▉        | 180/939 [00:09<00:41, 18.39it/s, loss=0.742, v_num=0][0]:\\n2023-08-09T15:10:48.917639725Z [0]:Epoch 0:  21%|██▏       | 200/939 [00:10<00:39, 18.54it/s, loss=0.742, v_num=0]\\n2023-08-09T15:10:48.917639725Z [0]:Epoch 0:  21%|██▏       | 200/939 [00:10<00:39, 18.54it/s, loss=0.729, v_num=0][0]:\\n2023-08-09T15:10:48.917639725Z [0]:Epoch 0:  23%|██▎       | 220/939 [00:11<00:38, 18.51it/s, loss=0.729, v_num=0]\\n2023-08-09T15:10:48.917639725Z [0]:Epoch 0:  23%|██▎       | 220/939 [00:11<00:38, 18.51it/s, loss=0.669, v_num=0][0]:\\n2023-08-09T15:10:48.917639725Z [0]:Epoch 0:  26%|██▌       | 240/939 [00:12<00:37, 18.48it/s, loss=0.669, v_num=0]\\n2023-08-09T15:10:48.917639725Z [0]:Epoch 0:  26%|██▌       | 240/939 [00:12<00:37, 18.48it/s, loss=0.615, v_num=0][0]:\\n2023-08-09T15:10:48.917639725Z [0]:Epoch 0:  28%|██▊       | 260/939 [00:14<00:36, 18.45it/s, loss=0.615, v_num=0]\\n2023-08-09T15:10:48.917639725Z [0]:Epoch 0:  28%|██▊       | 260/939 [00:14<00:36, 18.45it/s, loss=0.615, v_num=0][0]:\\n2023-08-09T15:10:48.917639725Z [0]:Epoch 0:  30%|██▉       | 280/939 [00:15<00:35, 18.42it/s, loss=0.615, v_num=0]\\n2023-08-09T15:10:48.917639725Z [0]:Epoch 0:  30%|██▉       | 280/939 [00:15<00:35, 18.42it/s, loss=0.576, v_num=0][0]:\\n2023-08-09T15:10:48.917639725Z [0]:Epoch 0:  32%|███▏      | 300/939 [00:16<00:34, 18.30it/s, loss=0.576, v_num=0]\\n2023-08-09T15:10:48.917639725Z [0]:Epoch 0:  32%|███▏      | 300/939 [00:16<00:34, 18.30it/s, loss=0.562, v_num=0][0]:\\n2023-08-09T15:10:48.917639725Z [0]:Epoch 0:  34%|███▍      | 320/939 [00:17<00:33, 18.29it/s, loss=0.562, v_num=0]\\n2023-08-09T15:10:48.917639725Z [0]:Epoch 0:  34%|███▍      | 320/939 [00:17<00:33, 18.29it/s, loss=0.51, v_num=0] [0]:\\n2023-08-09T15:10:48.917639725Z [0]:Epoch 0:  36%|███▌      | 340/939 [00:18<00:32, 18.28it/s, loss=0.51, v_num=0]\\n2023-08-09T15:10:48.917639725Z [0]:Epoch 0:  36%|███▌      | 340/939 [00:18<00:32, 18.28it/s, loss=0.531, v_num=0][0]:\\n2023-08-09T15:10:48.917639725Z [0]:Epoch 0:  38%|███▊      | 360/939 [00:19<00:31, 18.28it/s, loss=0.531, v_num=0]\\n2023-08-09T15:10:48.917639725Z [0]:Epoch 0:  38%|███▊      | 360/939 [00:19<00:31, 18.28it/s, loss=0.504, v_num=0][0]:\\n2023-08-09T15:10:48.917639725Z [0]:Epoch 0:  40%|████      | 380/939 [00:20<00:30, 18.28it/s, loss=0.504, v_num=0]\\n2023-08-09T15:10:48.917639725Z [0]:Epoch 0:  40%|████      | 380/939 [00:20<00:30, 18.28it/s, loss=0.523, v_num=0][0]:\\n2023-08-09T15:10:48.917639725Z [0]:Epoch 0:  43%|████▎     | 400/939 [00:21<00:29, 18.27it/s, loss=0.523, v_num=0]\\n2023-08-09T15:10:48.917639725Z [0]:Epoch 0:  43%|████▎     | 400/939 [00:21<00:29, 18.27it/s, loss=0.484, v_num=0][0]:\\n2023-08-09T15:10:48.917639725Z [0]:Epoch 0:  45%|████▍     | 420/939 [00:22<00:28, 18.27it/s, loss=0.484, v_num=0]\\n2023-08-09T15:10:48.917639725Z [0]:Epoch 0:  45%|████▍     | 420/939 [00:22<00:28, 18.27it/s, loss=0.465, v_num=0][0]:\\n2023-08-09T15:10:48.917639725Z [0]:Epoch 0:  47%|████▋     | 440/939 [00:24<00:27, 18.19it/s, loss=0.465, v_num=0]\\n2023-08-09T15:10:48.917639725Z [0]:Epoch 0:  47%|████▋     | 440/939 [00:24<00:27, 18.19it/s, loss=0.447, v_num=0][0]:\\n2023-08-09T15:10:48.917639725Z [0]:Epoch 0:  49%|████▉     | 460/939 [00:25<00:26, 18.18it/s, loss=0.447, v_num=0]\\n2023-08-09T15:10:48.917639725Z [0]:Epoch 0:  49%|████▉     | 460/939 [00:25<00:26, 18.18it/s, loss=0.466, v_num=0][0]:\\n2023-08-09T15:10:48.917639725Z [0]:Epoch 0:  51%|█████     | 480/939 [00:26<00:25, 18.25it/s, loss=0.466, v_num=0]\\n2023-08-09T15:10:48.917639725Z [0]:Epoch 0:  51%|█████     | 480/939 [00:26<00:25, 18.25it/s, loss=0.436, v_num=0][0]:\\n2023-08-09T15:10:48.917639725Z [0]:Epoch 0:  53%|█████▎    | 500/939 [00:27<00:24, 18.25it/s, loss=0.436, v_num=0]\\n2023-08-09T15:10:48.917639725Z [0]:Epoch 0:  53%|█████▎    | 500/939 [00:27<00:24, 18.24it/s, loss=0.407, v_num=0][0]:\\n2023-08-09T15:10:48.917639725Z [0]:Epoch 0:  55%|█████▌    | 520/939 [00:28<00:22, 18.25it/s, loss=0.407, v_num=0]\\n2023-08-09T15:10:48.917639725Z [0]:Epoch 0:  55%|█████▌    | 520/939 [00:28<00:22, 18.25it/s, loss=0.423, v_num=0][0]:\\n2023-08-09T15:10:48.917639725Z [0]:Epoch 0:  58%|█████▊    | 540/939 [00:29<00:21, 18.25it/s, loss=0.423, v_num=0]\\n2023-08-09T15:10:48.917639725Z [0]:Epoch 0:  58%|█████▊    | 540/939 [00:29<00:21, 18.25it/s, loss=0.414, v_num=0][0]:\\n2023-08-09T15:10:48.917639725Z [0]:Epoch 0:  60%|█████▉    | 560/939 [00:30<00:20, 18.25it/s, loss=0.414, v_num=0]\\n2023-08-09T15:10:48.917639725Z [0]:Epoch 0:  60%|█████▉    | 560/939 [00:30<00:20, 18.25it/s, loss=0.402, v_num=0][0]:\\n2023-08-09T15:10:48.917639725Z [0]:Epoch 0:  62%|██████▏   | 580/939 [00:31<00:19, 18.24it/s, loss=0.402, v_num=0]\\n2023-08-09T15:10:48.917639725Z [0]:Epoch 0:  62%|██████▏   | 580/939 [00:31<00:19, 18.24it/s, loss=0.358, v_num=0][0]:\\n2023-08-09T15:10:48.917639725Z [0]:Epoch 0:  64%|██████▍   | 600/939 [00:32<00:18, 18.18it/s, loss=0.358, v_num=0]\\n2023-08-09T15:10:48.917639725Z [0]:Epoch 0:  64%|██████▍   | 600/939 [00:32<00:18, 18.18it/s, loss=0.381, v_num=0][0]:\\n2023-08-09T15:10:48.917639725Z [0]:Epoch 0:  66%|██████▌   | 620/939 [00:34<00:17, 18.13it/s, loss=0.381, v_num=0]\\n2023-08-09T15:10:48.917639725Z [0]:Epoch 0:  66%|██████▌   | 620/939 [00:34<00:17, 18.13it/s, loss=0.401, v_num=0][0]:\\n2023-08-09T15:10:48.917639725Z [0]:Epoch 0:  68%|██████▊   | 640/939 [00:35<00:16, 18.13it/s, loss=0.401, v_num=0]\\n2023-08-09T15:10:48.917639725Z [0]:Epoch 0:  68%|██████▊   | 640/939 [00:35<00:16, 18.13it/s, loss=0.378, v_num=0][0]:\\n2023-08-09T15:10:48.917639725Z [0]:Epoch 0:  70%|███████   | 660/939 [00:36<00:15, 18.08it/s, loss=0.378, v_num=0]\\n2023-08-09T15:10:48.917639725Z [0]:Epoch 0:  70%|███████   | 660/939 [00:36<00:15, 18.08it/s, loss=0.364, v_num=0][0]:\\n2023-08-09T15:10:48.917639725Z [0]:Epoch 0:  72%|███████▏  | 680/939 [00:37<00:14, 18.09it/s, loss=0.364, v_num=0]\\n2023-08-09T15:10:48.917639725Z [0]:Epoch 0:  72%|███████▏  | 680/939 [00:37<00:14, 18.09it/s, loss=0.401, v_num=0][0]:\\n2023-08-09T15:10:48.917639725Z [0]:Epoch 0:  75%|███████▍  | 700/939 [00:38<00:13, 18.09it/s, loss=0.401, v_num=0]\\n'"
      ]
     },
     "execution_count": 20,
     "metadata": {},
     "output_type": "execute_result"
    }
   ],
   "source": [
    "job.logs()"
   ]
  },
  {
   "cell_type": "markdown",
   "id": "aebf376a",
   "metadata": {},
   "source": [
    "This time, once the pods complete, we can clean them up alongside any other associated resources. The following command can also be used to delete jobs early for both Ray and MCAD submission:"
   ]
  },
  {
   "cell_type": "code",
   "execution_count": 21,
   "id": "ebbb0674",
   "metadata": {},
   "outputs": [],
   "source": [
    "job.cancel()"
   ]
  },
  {
   "cell_type": "code",
   "execution_count": null,
   "id": "0d41b90e",
   "metadata": {},
   "outputs": [],
   "source": [
    "auth.logout()"
   ]
  }
 ],
 "metadata": {
  "kernelspec": {
   "display_name": "Python 3 (ipykernel)",
   "language": "python",
   "name": "python3"
  },
  "language_info": {
   "codemirror_mode": {
    "name": "ipython",
    "version": 3
   },
   "file_extension": ".py",
   "mimetype": "text/x-python",
   "name": "python",
   "nbconvert_exporter": "python",
   "pygments_lexer": "ipython3",
   "version": "3.8.17"
  },
  "vscode": {
   "interpreter": {
    "hash": "f9f85f796d01129d0dd105a088854619f454435301f6ffec2fea96ecbd9be4ac"
   }
  }
 },
 "nbformat": 4,
 "nbformat_minor": 5
}
