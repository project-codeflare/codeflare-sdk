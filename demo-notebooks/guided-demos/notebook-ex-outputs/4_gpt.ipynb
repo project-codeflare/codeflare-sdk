{
 "cells": [
  {
   "cell_type": "code",
   "execution_count": 1,
   "id": "b6c05b69-4ce8-45ef-82d3-bacb2491bee8",
   "metadata": {},
   "outputs": [],
   "source": [
    "# Import pieces from codeflare-sdk\n",
    "from codeflare_sdk.cluster.cluster import Cluster, ClusterConfiguration\n",
    "from codeflare_sdk.cluster.auth import TokenAuthentication"
   ]
  },
  {
   "cell_type": "code",
   "execution_count": null,
   "id": "32f99bbd-9903-4d38-a4f2-223dec684ae2",
   "metadata": {},
   "outputs": [],
   "source": [
    "# Create authentication object for user permissions\n",
    "# IF unused, SDK will automatically check for default kubeconfig, then in-cluster config\n",
    "# KubeConfigFileAuthentication can also be used to specify kubeconfig path manually\n",
    "auth = TokenAuthentication(token=\"XXXXX\", server=\"XXXXX\", skip_tls=False)\n",
    "auth.login()"
   ]
  },
  {
   "cell_type": "code",
   "execution_count": 2,
   "id": "3f32119a-c4ee-4163-b103-d9ca3bddbdb5",
   "metadata": {},
   "outputs": [
    {
     "name": "stdout",
     "output_type": "stream",
     "text": [
      "Written to: gptfttest.yaml\n"
     ]
    }
   ],
   "source": [
    "cluster = Cluster(\n",
    "    ClusterConfiguration(\n",
    "        name=\"gptfttest\",\n",
    "        namespace=\"default\",\n",
    "        num_workers=2,\n",
    "        min_cpus=2,\n",
    "        max_cpus=2,\n",
    "        min_memory=8,\n",
    "        max_memory=8,\n",
    "        num_gpus=1,\n",
    "        instascale=True,  # <---instascale enabled\n",
    "        machine_types=[\"m5.xlarge\", \"g4dn.xlarge\"],\n",
    "    )\n",
    ")"
   ]
  },
  {
   "cell_type": "code",
   "execution_count": 3,
   "id": "107c8277-3b3b-4238-a786-a391a662fd7c",
   "metadata": {},
   "outputs": [],
   "source": [
    "cluster.up()"
   ]
  },
  {
   "cell_type": "code",
   "execution_count": 4,
   "id": "730f66ce-adaa-4709-b9cf-22417847e059",
   "metadata": {},
   "outputs": [
    {
     "name": "stdout",
     "output_type": "stream",
     "text": [
      "Waiting for requested resources to be set up...\n",
      "Requested cluster up and running!\n"
     ]
    }
   ],
   "source": [
    "cluster.wait_ready()"
   ]
  },
  {
   "cell_type": "code",
   "execution_count": 5,
   "id": "48fac218-2f22-428b-9228-137a4bb0e666",
   "metadata": {},
   "outputs": [
    {
     "data": {
      "text/html": [
       "<pre style=\"white-space:pre;overflow-x:auto;line-height:normal;font-family:Menlo,'DejaVu Sans Mono',consolas,'Courier New',monospace\"><span style=\"font-style: italic\">                  </span><span style=\"font-weight: bold; font-style: italic\"> 🚀 CodeFlare Cluster Details 🚀</span><span style=\"font-style: italic\">                  </span>\n",
       "<span style=\"font-weight: bold\">                                                                    </span>\n",
       " ╭────────────────────────────────────────────────────────────────╮ \n",
       " │   <span style=\"color: #c0c0c0; text-decoration-color: #c0c0c0; background-color: #008000; font-weight: bold\">Name</span>                                                         │ \n",
       " │   <span style=\"font-weight: bold; text-decoration: underline\">gptfttest</span>                                        Active ✅   │ \n",
       " │                                                                │ \n",
       " │   <span style=\"font-weight: bold\">URI:</span> ray://gptfttest-head-svc.default.svc:10001              │ \n",
       " │                                                                │ \n",
       " │   <a href=\"http://ray-dashboard-gptfttest-default.apps.meyceoz-07122023.psap.aws.rhperfscale.org\" target=\"_blank\"><span style=\"color: #000080; text-decoration-color: #000080; text-decoration: underline\">Dashboard🔗</span></a>                                                  │ \n",
       " │                                                                │ \n",
       " │  <span style=\"font-style: italic\">                     Cluster Resources                     </span>   │ \n",
       " │   ╭── Workers ──╮  ╭───────── Worker specs(each) ─────────╮    │ \n",
       " │   │ <span style=\"font-weight: bold\"> # Workers </span> │  │ <span style=\"font-weight: bold\"> Memory      CPU         GPU        </span> │    │ \n",
       " │   │ <span style=\"color: #800080; text-decoration-color: #800080\">           </span> │  │ <span style=\"color: #008080; text-decoration-color: #008080\">            </span><span style=\"color: #800080; text-decoration-color: #800080\">                        </span> │    │ \n",
       " │   │ <span style=\"color: #800080; text-decoration-color: #800080\"> 2         </span> │  │ <span style=\"color: #008080; text-decoration-color: #008080\"> 8~8        </span><span style=\"color: #800080; text-decoration-color: #800080\"> 2           1          </span> │    │ \n",
       " │   │ <span style=\"color: #800080; text-decoration-color: #800080\">           </span> │  │ <span style=\"color: #008080; text-decoration-color: #008080\">            </span><span style=\"color: #800080; text-decoration-color: #800080\">                        </span> │    │ \n",
       " │   ╰─────────────╯  ╰──────────────────────────────────────╯    │ \n",
       " ╰────────────────────────────────────────────────────────────────╯ \n",
       "</pre>\n"
      ],
      "text/plain": [
       "\u001b[3m                  \u001b[0m\u001b[1;3m 🚀 CodeFlare Cluster Details 🚀\u001b[0m\u001b[3m                  \u001b[0m\n",
       "\u001b[1m \u001b[0m\u001b[1m                                                                  \u001b[0m\u001b[1m \u001b[0m\n",
       " ╭────────────────────────────────────────────────────────────────╮ \n",
       " │   \u001b[1;37;42mName\u001b[0m                                                         │ \n",
       " │   \u001b[1;4mgptfttest\u001b[0m                                        Active ✅   │ \n",
       " │                                                                │ \n",
       " │   \u001b[1mURI:\u001b[0m ray://gptfttest-head-svc.default.svc:10001              │ \n",
       " │                                                                │ \n",
       " │   \u001b]8;id=476902;http://ray-dashboard-gptfttest-default.apps.meyceoz-07122023.psap.aws.rhperfscale.org\u001b\\\u001b[4;34mDashboard🔗\u001b[0m\u001b]8;;\u001b\\                                                  │ \n",
       " │                                                                │ \n",
       " │  \u001b[3m                     Cluster Resources                     \u001b[0m   │ \n",
       " │   ╭── Workers ──╮  ╭───────── Worker specs(each) ─────────╮    │ \n",
       " │   │ \u001b[1m \u001b[0m\u001b[1m# Workers\u001b[0m\u001b[1m \u001b[0m │  │ \u001b[1m \u001b[0m\u001b[1mMemory    \u001b[0m\u001b[1m \u001b[0m\u001b[1m \u001b[0m\u001b[1mCPU       \u001b[0m\u001b[1m \u001b[0m\u001b[1m \u001b[0m\u001b[1mGPU       \u001b[0m\u001b[1m \u001b[0m │    │ \n",
       " │   │ \u001b[35m \u001b[0m\u001b[35m         \u001b[0m\u001b[35m \u001b[0m │  │ \u001b[36m \u001b[0m\u001b[36m          \u001b[0m\u001b[36m \u001b[0m\u001b[35m \u001b[0m\u001b[35m          \u001b[0m\u001b[35m \u001b[0m\u001b[35m \u001b[0m\u001b[35m          \u001b[0m\u001b[35m \u001b[0m │    │ \n",
       " │   │ \u001b[35m \u001b[0m\u001b[35m2        \u001b[0m\u001b[35m \u001b[0m │  │ \u001b[36m \u001b[0m\u001b[36m8~8       \u001b[0m\u001b[36m \u001b[0m\u001b[35m \u001b[0m\u001b[35m2         \u001b[0m\u001b[35m \u001b[0m\u001b[35m \u001b[0m\u001b[35m1         \u001b[0m\u001b[35m \u001b[0m │    │ \n",
       " │   │ \u001b[35m \u001b[0m\u001b[35m         \u001b[0m\u001b[35m \u001b[0m │  │ \u001b[36m \u001b[0m\u001b[36m          \u001b[0m\u001b[36m \u001b[0m\u001b[35m \u001b[0m\u001b[35m          \u001b[0m\u001b[35m \u001b[0m\u001b[35m \u001b[0m\u001b[35m          \u001b[0m\u001b[35m \u001b[0m │    │ \n",
       " │   ╰─────────────╯  ╰──────────────────────────────────────╯    │ \n",
       " ╰────────────────────────────────────────────────────────────────╯ \n"
      ]
     },
     "metadata": {},
     "output_type": "display_data"
    },
    {
     "data": {
      "text/plain": [
       "RayCluster(name='gptfttest', status=<RayClusterStatus.READY: 'ready'>, workers=2, worker_mem_min=8, worker_mem_max=8, worker_cpu=2, worker_gpu=1, namespace='default', dashboard='http://ray-dashboard-gptfttest-default.apps.meyceoz-07122023.psap.aws.rhperfscale.org')"
      ]
     },
     "execution_count": 5,
     "metadata": {},
     "output_type": "execute_result"
    }
   ],
   "source": [
    "cluster.details()"
   ]
  },
  {
   "cell_type": "code",
   "execution_count": 6,
   "id": "9ed5bd75-4230-4c7c-a9e2-0f247890e62a",
   "metadata": {},
   "outputs": [],
   "source": [
    "from codeflare_sdk.job.jobs import DDPJobDefinition"
   ]
  },
  {
   "cell_type": "code",
   "execution_count": 7,
   "id": "611d203a-35aa-4357-a748-1d01b022fcdb",
   "metadata": {},
   "outputs": [],
   "source": [
    "arg_list = [\n",
    "    \"--model_name_or_path\",\n",
    "    \"gpt2\",\n",
    "    \"--dataset_name\",\n",
    "    \"wikitext\",\n",
    "    \"--dataset_config_name\",\n",
    "    \"wikitext-2-raw-v1\",\n",
    "    \"--per_device_train_batch_size\",\n",
    "    \"2\",\n",
    "    \"--per_device_eval_batch_size\",\n",
    "    \"2\",\n",
    "    \"--do_train\",\n",
    "    \"--do_eval\",\n",
    "    \"--output_dir\",\n",
    "    \"/tmp/test-clm\",\n",
    "    \"--overwrite_output_dir\",\n",
    "]"
   ]
  },
  {
   "cell_type": "code",
   "execution_count": 8,
   "id": "8ac7c34f-e227-44c2-a4b1-a57c853ac3a7",
   "metadata": {},
   "outputs": [
    {
     "name": "stderr",
     "output_type": "stream",
     "text": [
      "The Ray scheduler does not support port mapping.\n"
     ]
    }
   ],
   "source": [
    "jobdef = DDPJobDefinition(\n",
    "    name=\"gpttest\",\n",
    "    script=\"gpt_og.py\",\n",
    "    script_args=arg_list,\n",
    "    scheduler_args={\"requirements\": \"requirements_gpt.txt\"},\n",
    ")\n",
    "job = jobdef.submit(cluster)"
   ]
  },
  {
   "cell_type": "code",
   "execution_count": 16,
   "id": "1680d287-de46-45f8-b95a-02ba3c83912c",
   "metadata": {},
   "outputs": [
    {
     "data": {
      "text/plain": [
       "AppStatus:\n",
       "  msg: !!python/object/apply:ray.dashboard.modules.job.common.JobStatus\n",
       "  - RUNNING\n",
       "  num_restarts: -1\n",
       "  roles:\n",
       "  - replicas:\n",
       "    - hostname: <NONE>\n",
       "      id: 0\n",
       "      role: ray\n",
       "      state: !!python/object/apply:torchx.specs.api.AppState\n",
       "      - 3\n",
       "      structured_error_msg: <NONE>\n",
       "    role: ray\n",
       "  state: RUNNING (3)\n",
       "  structured_error_msg: <NONE>\n",
       "  ui_url: null"
      ]
     },
     "execution_count": 16,
     "metadata": {},
     "output_type": "execute_result"
    }
   ],
   "source": [
    "job.status()"
   ]
  },
  {
   "cell_type": "markdown",
   "id": "8222e884-7091-4b74-bdcf-565f25abed11",
   "metadata": {},
   "source": [
    "Retrieve raw log output at anytime with:"
   ]
  },
  {
   "cell_type": "code",
   "execution_count": 21,
   "id": "d25d6198-9941-47e8-857f-9811830cc854",
   "metadata": {},
   "outputs": [
    {
     "data": {
      "text/plain": [
       "'[RayActor(name=\\'gpt_og\\', command=[\\'bash\\', \\'-c\\', \"torchrun --rdzv_backend static --rdzv_endpoint $TORCHX_RANK0_HOST:49782 --rdzv_id \\'gpttest-tg69zmd1xf19l\\' --nnodes 2 --nproc_per_node 1 --node_rank \\'0\\' --tee 3 --role \\'\\' gpt_og.py --model_name_or_path gpt2 --dataset_name wikitext --dataset_config_name wikitext-2-raw-v1 --per_device_train_batch_size 2 --per_device_eval_batch_size 2 --do_train --do_eval --output_dir /tmp/test-clm --overwrite_output_dir\"], env={\\'TORCHX_TRACKING_EXPERIMENT_NAME\\': \\'default-experiment\\', \\'LOGLEVEL\\': \\'WARNING\\', \\'TORCHX_JOB_ID\\': \\'ray://torchx/gpttest-tg69zmd1xf19l\\'}, num_cpus=2, num_gpus=1, min_replicas=2), RayActor(name=\\'gpt_og\\', command=[\\'bash\\', \\'-c\\', \"torchrun --rdzv_backend static --rdzv_endpoint $TORCHX_RANK0_HOST:49782 --rdzv_id \\'gpttest-tg69zmd1xf19l\\' --nnodes 2 --nproc_per_node 1 --node_rank \\'1\\' --tee 3 --role \\'\\' gpt_og.py --model_name_or_path gpt2 --dataset_name wikitext --dataset_config_name wikitext-2-raw-v1 --per_device_train_batch_size 2 --per_device_eval_batch_size 2 --do_train --do_eval --output_dir /tmp/test-clm --overwrite_output_dir\"], env={\\'TORCHX_TRACKING_EXPERIMENT_NAME\\': \\'default-experiment\\', \\'LOGLEVEL\\': \\'WARNING\\', \\'TORCHX_JOB_ID\\': \\'ray://torchx/gpttest-tg69zmd1xf19l\\'}, num_cpus=2, num_gpus=1, min_replicas=2)]\\n2023-08-09 15:39:16,608\\tINFO worker.py:1334 -- Using address 10.129.6.9:6379 set in the environment variable RAY_ADDRESS\\n2023-08-09 15:39:16,608\\tINFO worker.py:1452 -- Connecting to existing Ray cluster at address: 10.129.6.9:6379...\\n2023-08-09 15:39:16,667\\tINFO worker.py:1627 -- Connected to Ray cluster. View the dashboard at \\x1b[1m\\x1b[32mhttp://10.129.6.9:8265 \\x1b[39m\\x1b[22m\\nWaiting for minimum placement group to start.\\nSuccessfully created placement groups\\nrdzv_endpoint set to 10.128.6.19 for actor b557571d0e8b5ce27f34a7e802000000\\nrdzv_endpoint set to 10.128.6.19 for actor 8826a9b5f730773c7c99241102000000\\nSuccessfully placed command actors\\nEntering main loop, start executing the script on worker nodes\\nrunning ray.wait on [ObjectRef(e082c90ab8422b00b557571d0e8b5ce27f34a7e80200000001000000), ObjectRef(ce868e48e2fa9a948826a9b5f730773c7c9924110200000001000000)]\\nrunning ray.wait on [ObjectRef(ce868e48e2fa9a948826a9b5f730773c7c9924110200000001000000), ObjectRef(f81ec6ff838b16dbb557571d0e8b5ce27f34a7e80200000001000000)]\\nrunning ray.wait on [ObjectRef(f81ec6ff838b16dbb557571d0e8b5ce27f34a7e80200000001000000), ObjectRef(32b0eec39cfa87ac8826a9b5f730773c7c9924110200000001000000)]\\n'"
      ]
     },
     "execution_count": 21,
     "metadata": {},
     "output_type": "execute_result"
    }
   ],
   "source": [
    "job.logs()"
   ]
  },
  {
   "cell_type": "markdown",
   "id": "92b0a8ec-c2ee-43ce-abd7-368c769abd57",
   "metadata": {},
   "source": [
    "View live updates for status, logs, and other information with:"
   ]
  },
  {
   "cell_type": "code",
   "execution_count": 22,
   "id": "36bfa974-d923-44d2-b079-4c42b66152f7",
   "metadata": {},
   "outputs": [
    {
     "data": {
      "text/plain": [
       "'http://ray-dashboard-gptfttest-default.apps.meyceoz-07122023.psap.aws.rhperfscale.org'"
      ]
     },
     "execution_count": 22,
     "metadata": {},
     "output_type": "execute_result"
    }
   ],
   "source": [
    "cluster.cluster_dashboard_uri()"
   ]
  },
  {
   "cell_type": "code",
   "execution_count": 24,
   "id": "d7b27d0a-b0e3-421c-a3f5-d9db97890f7c",
   "metadata": {},
   "outputs": [
    {
     "data": {
      "text/plain": [
       "AppStatus:\n",
       "  msg: !!python/object/apply:ray.dashboard.modules.job.common.JobStatus\n",
       "  - SUCCEEDED\n",
       "  num_restarts: -1\n",
       "  roles:\n",
       "  - replicas:\n",
       "    - hostname: <NONE>\n",
       "      id: 0\n",
       "      role: ray\n",
       "      state: !!python/object/apply:torchx.specs.api.AppState\n",
       "      - 4\n",
       "      structured_error_msg: <NONE>\n",
       "    role: ray\n",
       "  state: SUCCEEDED (4)\n",
       "  structured_error_msg: <NONE>\n",
       "  ui_url: null"
      ]
     },
     "execution_count": 24,
     "metadata": {},
     "output_type": "execute_result"
    }
   ],
   "source": [
    "job.status()"
   ]
  },
  {
   "cell_type": "code",
   "execution_count": 25,
   "id": "beb1a6b9-d9b3-49b7-b036-09f1d3569b59",
   "metadata": {},
   "outputs": [],
   "source": [
    "cluster.down()"
   ]
  },
  {
   "cell_type": "code",
   "execution_count": null,
   "id": "8398d977-db24-46d0-a7d2-b4e9197808d7",
   "metadata": {},
   "outputs": [],
   "source": [
    "auth.logout()"
   ]
  }
 ],
 "metadata": {
  "kernelspec": {
   "display_name": "Python 3 (ipykernel)",
   "language": "python",
   "name": "python3"
  },
  "language_info": {
   "codemirror_mode": {
    "name": "ipython",
    "version": 3
   },
   "file_extension": ".py",
   "mimetype": "text/x-python",
   "name": "python",
   "nbconvert_exporter": "python",
   "pygments_lexer": "ipython3",
   "version": "3.8.17"
  }
 },
 "nbformat": 4,
 "nbformat_minor": 5
}
