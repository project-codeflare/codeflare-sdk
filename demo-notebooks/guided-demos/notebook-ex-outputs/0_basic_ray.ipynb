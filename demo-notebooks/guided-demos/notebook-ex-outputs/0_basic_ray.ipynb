{
 "cells": [
  {
   "attachments": {},
   "cell_type": "markdown",
   "id": "8d4a42f6",
   "metadata": {},
   "source": [
    "In this first notebook, we will go through the basics of using the SDK to:\n",
    " - Spin up a Ray cluster with our desired resources\n",
    " - View the status and specs of our Ray cluster\n",
    " - Take down the Ray cluster when finished"
   ]
  },
  {
   "cell_type": "code",
   "execution_count": 1,
   "id": "b55bc3ea-4ce3-49bf-bb1f-e209de8ca47a",
   "metadata": {},
   "outputs": [],
   "source": [
    "# Import pieces from codeflare-sdk\n",
    "from codeflare_sdk.cluster.cluster import Cluster, ClusterConfiguration\n",
    "from codeflare_sdk.cluster.auth import TokenAuthentication"
   ]
  },
  {
   "cell_type": "code",
   "execution_count": null,
   "id": "614daa0c",
   "metadata": {},
   "outputs": [],
   "source": [
    "# Create authentication object for oc user permissions\n",
    "auth = TokenAuthentication(\n",
    "    token = \"XXXXX\",\n",
    "    server = \"XXXXX\",\n",
    "    skip_tls=False\n",
    ")\n",
    "auth.login()"
   ]
  },
  {
   "cell_type": "markdown",
   "id": "bc27f84c",
   "metadata": {},
   "source": [
    "Here, we want to define our cluster by specifying the resources we require for our batch workload. Below, we define our cluster object (which generates a corresponding AppWrapper)."
   ]
  },
  {
   "cell_type": "code",
   "execution_count": 3,
   "id": "0f4bc870-091f-4e11-9642-cba145710159",
   "metadata": {},
   "outputs": [
    {
     "name": "stdout",
     "output_type": "stream",
     "text": [
      "Written to: raytest.yaml\n"
     ]
    }
   ],
   "source": [
    "# Create and configure our cluster object (and appwrapper)\n",
    "cluster = Cluster(ClusterConfiguration(\n",
    "    name='raytest',\n",
    "    namespace='default',\n",
    "    min_worker=2,\n",
    "    max_worker=2,\n",
    "    min_cpus=1,\n",
    "    max_cpus=1,\n",
    "    min_memory=4,\n",
    "    max_memory=4,\n",
    "    gpu=0,\n",
    "    instascale=False\n",
    "))"
   ]
  },
  {
   "cell_type": "markdown",
   "id": "12eef53c",
   "metadata": {},
   "source": [
    "Next, we want to bring our cluster up, so we call the `up()` function below to submit our cluster AppWrapper yaml onto the MCAD queue, and begin the process of obtaining our resource cluster."
   ]
  },
  {
   "cell_type": "code",
   "execution_count": 4,
   "id": "f0884bbc-c224-4ca0-98a0-02dfa09c2200",
   "metadata": {},
   "outputs": [],
   "source": [
    "# Bring up the cluster\n",
    "cluster.up()"
   ]
  },
  {
   "attachments": {},
   "cell_type": "markdown",
   "id": "657ebdfb",
   "metadata": {},
   "source": [
    "Now, we want to check on the status of our resource cluster, and wait until it is finally ready for use."
   ]
  },
  {
   "cell_type": "code",
   "execution_count": 5,
   "id": "3c1b4311-2e61-44c9-8225-87c2db11363d",
   "metadata": {},
   "outputs": [
    {
     "data": {
      "text/html": [
       "<pre style=\"white-space:pre;overflow-x:auto;line-height:normal;font-family:Menlo,'DejaVu Sans Mono',consolas,'Courier New',monospace\">╭───────────────────────╮\n",
       "│ <span style=\"font-style: italic\">  </span><span style=\"font-weight: bold; font-style: italic\"> 🚀 Cluster Queue</span><span style=\"font-style: italic\">  </span> │\n",
       "│ <span style=\"font-style: italic\">      </span><span style=\"font-weight: bold; font-style: italic\">Status 🚀</span><span style=\"font-style: italic\">      </span> │\n",
       "│ +---------+---------+ │\n",
       "│ |<span style=\"font-weight: bold\"> Name    </span>|<span style=\"font-weight: bold\"> Status  </span>| │\n",
       "│ +=========+=========+ │\n",
       "│ |<span style=\"color: #008080; text-decoration-color: #008080\"> raytest </span>|<span style=\"color: #800080; text-decoration-color: #800080\"> pending </span>| │\n",
       "│ |<span style=\"color: #008080; text-decoration-color: #008080\">         </span>|<span style=\"color: #800080; text-decoration-color: #800080\">         </span>| │\n",
       "│ +---------+---------+ │\n",
       "╰───────────────────────╯\n",
       "</pre>\n"
      ],
      "text/plain": [
       "╭───────────────────────╮\n",
       "│ \u001b[3m  \u001b[0m\u001b[1;3m 🚀 Cluster Queue\u001b[0m\u001b[3m  \u001b[0m │\n",
       "│ \u001b[3m      \u001b[0m\u001b[1;3mStatus 🚀\u001b[0m\u001b[3m      \u001b[0m │\n",
       "│ +---------+---------+ │\n",
       "│ |\u001b[1m \u001b[0m\u001b[1mName   \u001b[0m\u001b[1m \u001b[0m|\u001b[1m \u001b[0m\u001b[1mStatus \u001b[0m\u001b[1m \u001b[0m| │\n",
       "│ +=========+=========+ │\n",
       "│ |\u001b[36m \u001b[0m\u001b[36mraytest\u001b[0m\u001b[36m \u001b[0m|\u001b[35m \u001b[0m\u001b[35mpending\u001b[0m\u001b[35m \u001b[0m| │\n",
       "│ |\u001b[36m \u001b[0m\u001b[36m       \u001b[0m\u001b[36m \u001b[0m|\u001b[35m \u001b[0m\u001b[35m       \u001b[0m\u001b[35m \u001b[0m| │\n",
       "│ +---------+---------+ │\n",
       "╰───────────────────────╯\n"
      ]
     },
     "metadata": {},
     "output_type": "display_data"
    },
    {
     "data": {
      "text/plain": [
       "(<CodeFlareClusterStatus.QUEUED: 3>, False)"
      ]
     },
     "execution_count": 5,
     "metadata": {},
     "output_type": "execute_result"
    }
   ],
   "source": [
    "cluster.status()"
   ]
  },
  {
   "cell_type": "code",
   "execution_count": 6,
   "id": "a99d5aff",
   "metadata": {},
   "outputs": [
    {
     "name": "stdout",
     "output_type": "stream",
     "text": [
      "Waiting for requested resources to be set up...\n",
      "Requested cluster up and running!\n"
     ]
    }
   ],
   "source": [
    "cluster.wait_ready()"
   ]
  },
  {
   "cell_type": "code",
   "execution_count": 7,
   "id": "df71c1ed",
   "metadata": {},
   "outputs": [
    {
     "data": {
      "text/html": [
       "<pre style=\"white-space:pre;overflow-x:auto;line-height:normal;font-family:Menlo,'DejaVu Sans Mono',consolas,'Courier New',monospace\"><span style=\"font-style: italic\">                 </span><span style=\"font-weight: bold; font-style: italic\"> 🚀 CodeFlare Cluster Status 🚀</span><span style=\"font-style: italic\">                  </span>\n",
       "<span style=\"font-weight: bold\">                                                                  </span>\n",
       " ╭──────────────────────────────────────────────────────────────╮ \n",
       " │   <span style=\"color: #c0c0c0; text-decoration-color: #c0c0c0; background-color: #008000; font-weight: bold\">Name</span>                                                       │ \n",
       " │   <span style=\"font-weight: bold; text-decoration: underline\">raytest</span>                                        Active ✅   │ \n",
       " │                                                              │ \n",
       " │   <span style=\"font-weight: bold\">URI:</span> ray://raytest-head-svc.default.svc:10001              │ \n",
       " │                                                              │ \n",
       " │   <a href=\"ray-dashboard-raytest-default.apps.meyceoz-032023.psap.aws.rhperfscale.org\" target=\"_blank\"><span style=\"color: #000080; text-decoration-color: #000080; text-decoration: underline\">Dashboard🔗</span></a>                                                │ \n",
       " │                                                              │ \n",
       " ╰──────────────────────────────────────────────────────────────╯ \n",
       "</pre>\n"
      ],
      "text/plain": [
       "\u001b[3m                 \u001b[0m\u001b[1;3m 🚀 CodeFlare Cluster Status 🚀\u001b[0m\u001b[3m                  \u001b[0m\n",
       "\u001b[1m \u001b[0m\u001b[1m                                                                \u001b[0m\u001b[1m \u001b[0m\n",
       " ╭──────────────────────────────────────────────────────────────╮ \n",
       " │   \u001b[1;37;42mName\u001b[0m                                                       │ \n",
       " │   \u001b[1;4mraytest\u001b[0m                                        Active ✅   │ \n",
       " │                                                              │ \n",
       " │   \u001b[1mURI:\u001b[0m ray://raytest-head-svc.default.svc:10001              │ \n",
       " │                                                              │ \n",
       " │   \u001b]8;id=786870;ray-dashboard-raytest-default.apps.meyceoz-032023.psap.aws.rhperfscale.org\u001b\\\u001b[4;34mDashboard🔗\u001b[0m\u001b]8;;\u001b\\                                                │ \n",
       " │                                                              │ \n",
       " ╰──────────────────────────────────────────────────────────────╯ \n"
      ]
     },
     "metadata": {},
     "output_type": "display_data"
    },
    {
     "data": {
      "text/plain": [
       "(<CodeFlareClusterStatus.READY: 1>, True)"
      ]
     },
     "execution_count": 7,
     "metadata": {},
     "output_type": "execute_result"
    }
   ],
   "source": [
    "cluster.status()"
   ]
  },
  {
   "attachments": {},
   "cell_type": "markdown",
   "id": "b3a55fe4",
   "metadata": {},
   "source": [
    "Let's quickly verify that the specs of the cluster are as expected."
   ]
  },
  {
   "cell_type": "code",
   "execution_count": 8,
   "id": "7fd45bc5-03c0-4ae5-9ec5-dd1c30f1a084",
   "metadata": {},
   "outputs": [
    {
     "data": {
      "text/html": [
       "<pre style=\"white-space:pre;overflow-x:auto;line-height:normal;font-family:Menlo,'DejaVu Sans Mono',consolas,'Courier New',monospace\"><span style=\"font-style: italic\">                 </span><span style=\"font-weight: bold; font-style: italic\"> 🚀 CodeFlare Cluster Details 🚀</span><span style=\"font-style: italic\">                 </span>\n",
       "<span style=\"font-weight: bold\">                                                                  </span>\n",
       " ╭──────────────────────────────────────────────────────────────╮ \n",
       " │   <span style=\"color: #c0c0c0; text-decoration-color: #c0c0c0; background-color: #008000; font-weight: bold\">Name</span>                                                       │ \n",
       " │   <span style=\"font-weight: bold; text-decoration: underline\">raytest</span>                                        Active ✅   │ \n",
       " │                                                              │ \n",
       " │   <span style=\"font-weight: bold\">URI:</span> ray://raytest-head-svc.default.svc:10001              │ \n",
       " │                                                              │ \n",
       " │   <a href=\"http://ray-dashboard-raytest-default.apps.meyceoz-032023.psap.aws.rhperfscale.org\" target=\"_blank\"><span style=\"color: #000080; text-decoration-color: #000080; text-decoration: underline\">Dashboard🔗</span></a>                                                │ \n",
       " │                                                              │ \n",
       " │  <span style=\"font-style: italic\">                    Cluster Resources                     </span>  │ \n",
       " │   ╭─ Workers ──╮  ╭───────── Worker specs(each) ─────────╮   │ \n",
       " │   │ <span style=\"font-weight: bold\"> Min  Max </span> │  │ <span style=\"font-weight: bold\"> Memory      CPU         GPU        </span> │   │ \n",
       " │   │ <span style=\"color: #008080; text-decoration-color: #008080\">     </span><span style=\"color: #800080; text-decoration-color: #800080\">     </span> │  │ <span style=\"color: #008080; text-decoration-color: #008080\">            </span><span style=\"color: #800080; text-decoration-color: #800080\">                        </span> │   │ \n",
       " │   │ <span style=\"color: #008080; text-decoration-color: #008080\"> 2   </span><span style=\"color: #800080; text-decoration-color: #800080\"> 2   </span> │  │ <span style=\"color: #008080; text-decoration-color: #008080\"> 4~4        </span><span style=\"color: #800080; text-decoration-color: #800080\"> 1           0          </span> │   │ \n",
       " │   │ <span style=\"color: #008080; text-decoration-color: #008080\">     </span><span style=\"color: #800080; text-decoration-color: #800080\">     </span> │  │ <span style=\"color: #008080; text-decoration-color: #008080\">            </span><span style=\"color: #800080; text-decoration-color: #800080\">                        </span> │   │ \n",
       " │   ╰────────────╯  ╰──────────────────────────────────────╯   │ \n",
       " ╰──────────────────────────────────────────────────────────────╯ \n",
       "</pre>\n"
      ],
      "text/plain": [
       "\u001b[3m                 \u001b[0m\u001b[1;3m 🚀 CodeFlare Cluster Details 🚀\u001b[0m\u001b[3m                 \u001b[0m\n",
       "\u001b[1m \u001b[0m\u001b[1m                                                                \u001b[0m\u001b[1m \u001b[0m\n",
       " ╭──────────────────────────────────────────────────────────────╮ \n",
       " │   \u001b[1;37;42mName\u001b[0m                                                       │ \n",
       " │   \u001b[1;4mraytest\u001b[0m                                        Active ✅   │ \n",
       " │                                                              │ \n",
       " │   \u001b[1mURI:\u001b[0m ray://raytest-head-svc.default.svc:10001              │ \n",
       " │                                                              │ \n",
       " │   \u001b]8;id=611457;http://ray-dashboard-raytest-default.apps.meyceoz-032023.psap.aws.rhperfscale.org\u001b\\\u001b[4;34mDashboard🔗\u001b[0m\u001b]8;;\u001b\\                                                │ \n",
       " │                                                              │ \n",
       " │  \u001b[3m                    Cluster Resources                     \u001b[0m  │ \n",
       " │   ╭─ Workers ──╮  ╭───────── Worker specs(each) ─────────╮   │ \n",
       " │   │ \u001b[1m \u001b[0m\u001b[1mMin\u001b[0m\u001b[1m \u001b[0m\u001b[1m \u001b[0m\u001b[1mMax\u001b[0m\u001b[1m \u001b[0m │  │ \u001b[1m \u001b[0m\u001b[1mMemory    \u001b[0m\u001b[1m \u001b[0m\u001b[1m \u001b[0m\u001b[1mCPU       \u001b[0m\u001b[1m \u001b[0m\u001b[1m \u001b[0m\u001b[1mGPU       \u001b[0m\u001b[1m \u001b[0m │   │ \n",
       " │   │ \u001b[36m \u001b[0m\u001b[36m   \u001b[0m\u001b[36m \u001b[0m\u001b[35m \u001b[0m\u001b[35m   \u001b[0m\u001b[35m \u001b[0m │  │ \u001b[36m \u001b[0m\u001b[36m          \u001b[0m\u001b[36m \u001b[0m\u001b[35m \u001b[0m\u001b[35m          \u001b[0m\u001b[35m \u001b[0m\u001b[35m \u001b[0m\u001b[35m          \u001b[0m\u001b[35m \u001b[0m │   │ \n",
       " │   │ \u001b[36m \u001b[0m\u001b[36m2  \u001b[0m\u001b[36m \u001b[0m\u001b[35m \u001b[0m\u001b[35m2  \u001b[0m\u001b[35m \u001b[0m │  │ \u001b[36m \u001b[0m\u001b[36m4~4       \u001b[0m\u001b[36m \u001b[0m\u001b[35m \u001b[0m\u001b[35m1         \u001b[0m\u001b[35m \u001b[0m\u001b[35m \u001b[0m\u001b[35m0         \u001b[0m\u001b[35m \u001b[0m │   │ \n",
       " │   │ \u001b[36m \u001b[0m\u001b[36m   \u001b[0m\u001b[36m \u001b[0m\u001b[35m \u001b[0m\u001b[35m   \u001b[0m\u001b[35m \u001b[0m │  │ \u001b[36m \u001b[0m\u001b[36m          \u001b[0m\u001b[36m \u001b[0m\u001b[35m \u001b[0m\u001b[35m          \u001b[0m\u001b[35m \u001b[0m\u001b[35m \u001b[0m\u001b[35m          \u001b[0m\u001b[35m \u001b[0m │   │ \n",
       " │   ╰────────────╯  ╰──────────────────────────────────────╯   │ \n",
       " ╰──────────────────────────────────────────────────────────────╯ \n"
      ]
     },
     "metadata": {},
     "output_type": "display_data"
    },
    {
     "data": {
      "text/plain": [
       "RayCluster(name='raytest', status=<RayClusterStatus.READY: 'ready'>, min_workers=2, max_workers=2, worker_mem_min=4, worker_mem_max=4, worker_cpu=1, worker_gpu=0, namespace='default', dashboard='http://ray-dashboard-raytest-default.apps.meyceoz-032023.psap.aws.rhperfscale.org')"
      ]
     },
     "execution_count": 8,
     "metadata": {},
     "output_type": "execute_result"
    }
   ],
   "source": [
    "cluster.details()"
   ]
  },
  {
   "cell_type": "markdown",
   "id": "5af8cd32",
   "metadata": {},
   "source": [
    "Finally, we bring our resource cluster down and release/terminate the associated resources, bringing everything back to the way it was before our cluster was brought up."
   ]
  },
  {
   "cell_type": "code",
   "execution_count": 9,
   "id": "5f36db0f-31f6-4373-9503-dc3c1c4c3f57",
   "metadata": {},
   "outputs": [],
   "source": [
    "cluster.down()"
   ]
  },
  {
   "cell_type": "code",
   "execution_count": null,
   "id": "0d41b90e",
   "metadata": {},
   "outputs": [],
   "source": [
    "auth.logout()"
   ]
  }
 ],
 "metadata": {
  "kernelspec": {
   "display_name": "sdktest",
   "language": "python",
   "name": "python3"
  },
  "language_info": {
   "codemirror_mode": {
    "name": "ipython",
    "version": 3
   },
   "file_extension": ".py",
   "mimetype": "text/x-python",
   "name": "python",
   "nbconvert_exporter": "python",
   "pygments_lexer": "ipython3",
   "version": "3.8.13"
  },
  "vscode": {
   "interpreter": {
    "hash": "ae72ec8d55aeb4773d9bab14ab14ec6c410f2dd8be83850b7c2732f479ead773"
   }
  }
 },
 "nbformat": 4,
 "nbformat_minor": 5
}
