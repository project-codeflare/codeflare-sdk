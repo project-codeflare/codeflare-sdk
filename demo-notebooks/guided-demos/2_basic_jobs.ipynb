{
 "cells": [
  {
   "cell_type": "markdown",
   "id": "464af595",
   "metadata": {},
   "source": [
    "In this third notebook, we will go over the basics of submitting jobs via the SDK, either to a Ray cluster or directly to MCAD."
   ]
  },
  {
   "cell_type": "code",
   "execution_count": null,
   "id": "b55bc3ea-4ce3-49bf-bb1f-e209de8ca47a",
   "metadata": {},
   "outputs": [],
   "source": [
    "# Import pieces from codeflare-sdk\n",
    "from codeflare_sdk.cluster.cluster import Cluster, ClusterConfiguration\n",
    "from codeflare_sdk.cluster.auth import TokenAuthentication"
   ]
  },
  {
   "cell_type": "code",
   "execution_count": null,
   "id": "614daa0c",
   "metadata": {},
   "outputs": [],
   "source": [
    "# Create authentication object for user permissions\n",
    "# IF unused, SDK will automatically check for default kubeconfig, then in-cluster config\n",
    "# KubeConfigFileAuthentication can also be used to specify kubeconfig path manually\n",
    "auth = TokenAuthentication(\n",
    "    token = \"XXXXX\",\n",
    "    server = \"XXXXX\",\n",
    "    skip_tls=False\n",
    ")\n",
    "auth.login()"
   ]
  },
  {
   "cell_type": "markdown",
   "id": "bc27f84c",
   "metadata": {},
   "source": [
    "Let's start by running through the same cluster setup as before:\n",
    "\n",
    "NOTE: We must specify the `image` which will be used in our RayCluster, we recommend you bring your own image which suits your purposes. \n",
    "The example here is a community image."
   ]
  },
  {
   "cell_type": "code",
   "execution_count": null,
   "id": "0f4bc870-091f-4e11-9642-cba145710159",
   "metadata": {},
   "outputs": [],
   "source": [
    "# Create and configure our cluster object (and appwrapper)\n",
    "cluster = Cluster(ClusterConfiguration(\n",
    "    name='jobtest',\n",
    "    namespace='default',\n",
    "    num_workers=2,\n",
    "    min_cpus=1,\n",
    "    max_cpus=1,\n",
    "    min_memory=4,\n",
    "    max_memory=4,\n",
    "    num_gpus=0,\n",
    "    image=\"quay.io/project-codeflare/ray:latest-py39-cu118\",\n",
    "    instascale=False\n",
    "))"
   ]
  },
  {
   "cell_type": "code",
   "execution_count": null,
   "id": "f0884bbc-c224-4ca0-98a0-02dfa09c2200",
   "metadata": {},
   "outputs": [],
   "source": [
    "# Bring up the cluster\n",
    "cluster.up()\n",
    "cluster.wait_ready()"
   ]
  },
  {
   "cell_type": "code",
   "execution_count": null,
   "id": "df71c1ed",
   "metadata": {},
   "outputs": [],
   "source": [
    "cluster.details()"
   ]
  },
  {
   "cell_type": "markdown",
   "id": "33663f47",
   "metadata": {},
   "source": [
    "This time, however, we are going to use the CodeFlare SDK to submit batch jobs via TorchX, either to the Ray cluster we have just brought up, or directly to MCAD."
   ]
  },
  {
   "cell_type": "code",
   "execution_count": null,
   "id": "c7b4f232",
   "metadata": {},
   "outputs": [],
   "source": [
    "from codeflare_sdk.job.jobs import DDPJobDefinition"
   ]
  },
  {
   "cell_type": "markdown",
   "id": "83d77b74",
   "metadata": {},
   "source": [
    "First, let's begin by submitting to Ray, training a basic NN on the MNIST dataset:"
   ]
  },
  {
   "cell_type": "code",
   "execution_count": null,
   "id": "8c2c5138",
   "metadata": {},
   "outputs": [],
   "source": [
    "jobdef = DDPJobDefinition(\n",
    "    name=\"mnisttest\",\n",
    "    script=\"mnist.py\",\n",
    "    scheduler_args={\"requirements\": \"requirements.txt\"}\n",
    ")\n",
    "job = jobdef.submit(cluster)"
   ]
  },
  {
   "cell_type": "markdown",
   "id": "5b9ae53a",
   "metadata": {},
   "source": [
    "Now we can take a look at the status of our submitted job, as well as retrieve the full logs:"
   ]
  },
  {
   "cell_type": "code",
   "execution_count": null,
   "id": "6e36c3d9",
   "metadata": {},
   "outputs": [],
   "source": [
    "job.status()"
   ]
  },
  {
   "cell_type": "code",
   "execution_count": null,
   "id": "834cfb5c",
   "metadata": {},
   "outputs": [],
   "source": [
    "job.logs()"
   ]
  },
  {
   "cell_type": "markdown",
   "id": "c8267fb2",
   "metadata": {},
   "source": [
    "You can also view organized logs, status, and other information directly through the Ray cluster's dashboard:"
   ]
  },
  {
   "cell_type": "code",
   "execution_count": null,
   "id": "3f3861d0",
   "metadata": {},
   "outputs": [],
   "source": [
    "cluster.cluster_dashboard_uri()"
   ]
  },
  {
   "cell_type": "markdown",
   "id": "5af8cd32",
   "metadata": {},
   "source": [
    "Once complete, we can bring our Ray cluster down and clean up:"
   ]
  },
  {
   "cell_type": "code",
   "execution_count": null,
   "id": "5f36db0f-31f6-4373-9503-dc3c1c4c3f57",
   "metadata": {},
   "outputs": [],
   "source": [
    "cluster.down()"
   ]
  },
  {
   "cell_type": "markdown",
   "id": "31096641",
   "metadata": {},
   "source": [
    "Now, an alternative option for job submission is to submit directly to MCAD, which will schedule pods to run the job with requested resources:\n",
    "\n",
    "NOTE: To test this demo in an air-gapped/ disconnected environment alter the training script to use a local dataset."
   ]
  },
  {
   "cell_type": "code",
   "execution_count": null,
   "id": "496139cc",
   "metadata": {},
   "outputs": [],
   "source": [
    "jobdef = DDPJobDefinition(\n",
    "    name=\"mnistjob\",\n",
    "    script=\"mnist.py\",\n",
    "    # script=\"mnist_disconnected.py\", # training script for disconnected environment\n",
    "    scheduler_args={\"namespace\": \"default\"},\n",
    "    j=\"1x1\",\n",
    "    gpu=0,\n",
    "    cpu=1,\n",
    "    memMB=8000,\n",
    "    image=\"quay.io/project-codeflare/mnist-job-test:v0.0.1\"\n",
    ")\n",
    "job = jobdef.submit()"
   ]
  },
  {
   "cell_type": "markdown",
   "id": "0837e43b",
   "metadata": {},
   "source": [
    "Once again, we can look at job status and logs:"
   ]
  },
  {
   "cell_type": "code",
   "execution_count": null,
   "id": "3d18d42c",
   "metadata": {},
   "outputs": [],
   "source": [
    "job.status()"
   ]
  },
  {
   "cell_type": "code",
   "execution_count": null,
   "id": "36d7ea97",
   "metadata": {},
   "outputs": [],
   "source": [
    "job.logs()"
   ]
  },
  {
   "cell_type": "markdown",
   "id": "aebf376a",
   "metadata": {},
   "source": [
    "This time, once the pods complete, we can clean them up alongside any other associated resources. The following command can also be used to delete jobs early for both Ray and MCAD submission:"
   ]
  },
  {
   "cell_type": "code",
   "execution_count": null,
   "id": "ebbb0674",
   "metadata": {},
   "outputs": [],
   "source": [
    "job.cancel()"
   ]
  },
  {
   "cell_type": "code",
   "execution_count": null,
   "id": "0d41b90e",
   "metadata": {},
   "outputs": [],
   "source": [
    "auth.logout()"
   ]
  }
 ],
 "metadata": {
  "kernelspec": {
   "display_name": "Python 3 (ipykernel)",
   "language": "python",
   "name": "python3"
  },
  "language_info": {
   "codemirror_mode": {
    "name": "ipython",
    "version": 3
   },
   "file_extension": ".py",
   "mimetype": "text/x-python",
   "name": "python",
   "nbconvert_exporter": "python",
   "pygments_lexer": "ipython3",
   "version": "3.8.13"
  },
  "vscode": {
   "interpreter": {
    "hash": "f9f85f796d01129d0dd105a088854619f454435301f6ffec2fea96ecbd9be4ac"
   }
  }
 },
 "nbformat": 4,
 "nbformat_minor": 5
}
