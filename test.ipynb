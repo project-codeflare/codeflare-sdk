{
 "cells": [
  {
   "cell_type": "code",
   "execution_count": null,
   "id": "0b5232cc",
   "metadata": {},
   "outputs": [],
   "source": [
    "%pip install dist/codeflare_sdk-0.0.0.dev0-py3-none-any.whl --force-reinstall"
   ]
  },
  {
   "cell_type": "markdown",
   "id": "2baaa61a",
   "metadata": {},
   "source": [
    "Both of the below examples use a python script that uses functions from a local helper file to demonstrate the ability to store multiple scripts in the config maps."
   ]
  },
  {
   "cell_type": "code",
   "execution_count": null,
   "id": "346bb8fc",
   "metadata": {},
   "outputs": [],
   "source": [
    "from codeflare_sdk import Cluster, ClusterConfiguration, TokenAuthentication, RayJob, ManagedClusterConfig"
   ]
  },
  {
   "cell_type": "markdown",
   "id": "f27fdf95",
   "metadata": {},
   "source": [
    "## Existing Cluster"
   ]
  },
  {
   "cell_type": "code",
   "execution_count": null,
   "id": "aabaae70",
   "metadata": {},
   "outputs": [],
   "source": [
    "# This only works once the cluster's pods have been deleted and recreated as the existing pods won't pick up the newly added config map. Need to resolve this.\n",
    "\n",
    "cluster = Cluster(ClusterConfiguration(\n",
    "    name='rayjob-cluster',\n",
    "    head_extended_resource_requests={'nvidia.com/gpu':0},\n",
    "    worker_extended_resource_requests={'nvidia.com/gpu':0},\n",
    "    num_workers=2,\n",
    "    worker_cpu_requests=2,\n",
    "    worker_cpu_limits=2,\n",
    "    worker_memory_requests=2,\n",
    "    worker_memory_limits=4,\n",
    "    namespace='rhods-notebooks'\n",
    "))\n",
    "\n",
    "cluster.apply()"
   ]
  },
  {
   "cell_type": "code",
   "execution_count": null,
   "id": "70e7326b",
   "metadata": {},
   "outputs": [],
   "source": [
    "cluster.status()"
   ]
  },
  {
   "cell_type": "code",
   "execution_count": null,
   "id": "df32bd0a",
   "metadata": {},
   "outputs": [],
   "source": [
    "rayjob = RayJob(\n",
    "    job_name=\"sdk-test-job\",\n",
    "    cluster_name=\"rayjob-cluster\",\n",
    "    namespace=\"rhods-notebooks\",\n",
    "    entrypoint=\"python test.py\",\n",
    ")\n",
    "\n",
    "rayjob.submit()"
   ]
  },
  {
   "cell_type": "markdown",
   "id": "5575e45c",
   "metadata": {},
   "source": [
    "## New Cluster"
   ]
  },
  {
   "cell_type": "code",
   "execution_count": null,
   "id": "87d5040c",
   "metadata": {},
   "outputs": [],
   "source": [
    "cluster_config = ManagedClusterConfig(\n",
    "    num_workers=2,\n",
    "    worker_cpu_requests=1,\n",
    "    worker_cpu_limits=1,\n",
    "    worker_memory_requests=4,\n",
    "    worker_memory_limits=4,\n",
    "    head_accelerators={'nvidia.com/gpu': 0},\n",
    "    worker_accelerators={'nvidia.com/gpu': 0},\n",
    ")"
   ]
  },
  {
   "cell_type": "code",
   "execution_count": null,
   "id": "e733bb2f",
   "metadata": {},
   "outputs": [],
   "source": [
    "rayjob = RayJob(\n",
    "    job_name=\"sdk-test-job\",\n",
    "    cluster_config=cluster_config,\n",
    "    namespace=\"rhods-notebooks\",\n",
    "    entrypoint = 'python -c \"import ray; import time; ray.init(); time.sleep(5); ray.shutdown()\"'\n",
    ")\n",
    "\n",
    "rayjob.submit()"
   ]
  },
  {
   "cell_type": "code",
   "execution_count": null,
   "id": "88d487b5",
   "metadata": {},
   "outputs": [],
   "source": [
    "rayjob.status()"
   ]
  }
 ],
 "metadata": {
  "kernelspec": {
   "display_name": "Python 3",
   "language": "python",
   "name": "python3"
  },
  "language_info": {
   "codemirror_mode": {
    "name": "ipython",
    "version": 3
   },
   "file_extension": ".py",
   "mimetype": "text/x-python",
   "name": "python",
   "nbconvert_exporter": "python",
   "pygments_lexer": "ipython3",
   "version": "3.11.11"
  }
 },
 "nbformat": 4,
 "nbformat_minor": 5
}
